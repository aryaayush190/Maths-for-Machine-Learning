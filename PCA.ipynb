{
  "nbformat": 4,
  "nbformat_minor": 0,
  "metadata": {
    "colab": {
      "provenance": [],
      "authorship_tag": "ABX9TyPA4gsrfNtAlMlaX8rIrOIA",
      "include_colab_link": true
    },
    "kernelspec": {
      "name": "python3",
      "display_name": "Python 3"
    },
    "language_info": {
      "name": "python"
    }
  },
  "cells": [
    {
      "cell_type": "markdown",
      "metadata": {
        "id": "view-in-github",
        "colab_type": "text"
      },
      "source": [
        "<a href=\"https://colab.research.google.com/github/aryaayush190/Maths-for-Machine-Learning/blob/main/PCA.ipynb\" target=\"_parent\"><img src=\"https://colab.research.google.com/assets/colab-badge.svg\" alt=\"Open In Colab\"/></a>"
      ]
    },
    {
      "cell_type": "code",
      "execution_count": 1,
      "metadata": {
        "colab": {
          "base_uri": "https://localhost:8080/",
          "height": 472
        },
        "id": "1FYAWd1CYK6R",
        "outputId": "4f26c83e-c550-42b4-ac97-19c57f158d63"
      },
      "outputs": [
        {
          "output_type": "display_data",
          "data": {
            "text/plain": [
              "<Figure size 640x480 with 1 Axes>"
            ],
            "image/png": "[encoded data removed]"
          },
          "metadata": {}
        }
      ],
      "source": [
        "import numpy as np\n",
        "import matplotlib.pyplot as plt\n",
        "\n",
        "# Sample 2D dataset\n",
        "X = np.array([[2.5, 2.4],\n",
        "              [0.5, 0.7],\n",
        "              [2.2, 2.9],\n",
        "              [1.9, 2.2],\n",
        "              [3.1, 3.0],\n",
        "              [2.3, 2.7],\n",
        "              [2.0, 1.6],\n",
        "              [1.0, 1.1],\n",
        "              [1.5, 1.6],\n",
        "              [1.1, 0.9]])\n",
        "\n",
        "# original data\n",
        "plt.scatter(X[:,0], X[:,1])\n",
        "plt.xlabel('X1')\n",
        "plt.ylabel('X2')\n",
        "plt.title('Original Data')\n",
        "plt.grid(True)\n",
        "plt.show()\n"
      ]
    },
    {
      "cell_type": "code",
      "source": [
        "# Step 1: Mean centering\n",
        "X_meaned = X - np.mean(X, axis=0)\n",
        "\n",
        "print(\"Mean centered data:\\n\", X_meaned[:5])\n"
      ],
      "metadata": {
        "colab": {
          "base_uri": "https://localhost:8080/"
        },
        "id": "j5bC5lMYYP3K",
        "outputId": "1056d9d6-e372-40b9-ff79-95518856ee0f"
      },
      "execution_count": 2,
      "outputs": [
        {
          "output_type": "stream",
          "name": "stdout",
          "text": [
            "Mean centered data:\n",
            " [[ 0.69  0.49]\n",
            " [-1.31 -1.21]\n",
            " [ 0.39  0.99]\n",
            " [ 0.09  0.29]\n",
            " [ 1.29  1.09]]\n"
          ]
        }
      ]
    },
    {
      "cell_type": "code",
      "source": [
        "# Step 2: Covariance matrix\n",
        "cov_mat = np.cov(X_meaned, rowvar=False)\n",
        "print(\"Covariance Matrix:\\n\", cov_mat)\n"
      ],
      "metadata": {
        "colab": {
          "base_uri": "https://localhost:8080/"
        },
        "id": "6JwmnP97YWsm",
        "outputId": "a6f31f06-ad3e-4b51-eaf8-0de73a657e7a"
      },
      "execution_count": 3,
      "outputs": [
        {
          "output_type": "stream",
          "name": "stdout",
          "text": [
            "Covariance Matrix:\n",
            " [[0.61655556 0.61544444]\n",
            " [0.61544444 0.71655556]]\n"
          ]
        }
      ]
    },
    {
      "cell_type": "code",
      "source": [
        "# Step 3: Eigen decomposition\n",
        "eigen_values, eigen_vectors = np.linalg.eig(cov_mat)\n",
        "\n",
        "print(\"Eigenvalues:\\n\", eigen_values)\n",
        "print(\"Eigenvectors:\\n\", eigen_vectors)\n"
      ],
      "metadata": {
        "colab": {
          "base_uri": "https://localhost:8080/"
        },
        "id": "gaXs21-eYX8V",
        "outputId": "151a5376-2dd0-4b73-b10b-0cf9e68902d2"
      },
      "execution_count": 4,
      "outputs": [
        {
          "output_type": "stream",
          "name": "stdout",
          "text": [
            "Eigenvalues:\n",
            " [0.0490834  1.28402771]\n",
            "Eigenvectors:\n",
            " [[-0.73517866 -0.6778734 ]\n",
            " [ 0.6778734  -0.73517866]]\n"
          ]
        }
      ]
    },
    {
      "cell_type": "code",
      "source": [
        "# Step 4: Sort eigenvectors\n",
        "# Get indices of sorted eigenvalues (descending)\n",
        "sorted_index = np.argsort(eigen_values)[::-1]\n",
        "sorted_eigenvalues = eigen_values[sorted_index]\n",
        "sorted_eigenvectors = eigen_vectors[:, sorted_index]\n",
        "\n",
        "print(\"Sorted Eigenvalues:\\n\", sorted_eigenvalues)\n",
        "print(\"Sorted Eigenvectors:\\n\", sorted_eigenvectors)\n"
      ],
      "metadata": {
        "colab": {
          "base_uri": "https://localhost:8080/"
        },
        "id": "5PQ-lYHoYZ-K",
        "outputId": "f965f20e-1cfe-4df5-ee05-9a5a16f13b46"
      },
      "execution_count": 5,
      "outputs": [
        {
          "output_type": "stream",
          "name": "stdout",
          "text": [
            "Sorted Eigenvalues:\n",
            " [1.28402771 0.0490834 ]\n",
            "Sorted Eigenvectors:\n",
            " [[-0.6778734  -0.73517866]\n",
            " [-0.73517866  0.6778734 ]]\n"
          ]
        }
      ]
    },
    {
      "cell_type": "code",
      "source": [
        "# Step 5: Pick top k eigenvectors (here k=1)\n",
        "n_components = 1\n",
        "eigenvector_subset = sorted_eigenvectors[:, 0:n_components]\n",
        "print(\"Top eigenvector:\\n\", eigenvector_subset)\n"
      ],
      "metadata": {
        "colab": {
          "base_uri": "https://localhost:8080/"
        },
        "id": "v3GsBzmYYbMn",
        "outputId": "267d5c7b-a669-4bff-dc4b-2e2b0882ba3f"
      },
      "execution_count": 6,
      "outputs": [
        {
          "output_type": "stream",
          "name": "stdout",
          "text": [
            "Top eigenvector:\n",
            " [[-0.6778734 ]\n",
            " [-0.73517866]]\n"
          ]
        }
      ]
    },
    {
      "cell_type": "code",
      "source": [
        "# Step 6: Transform the data\n",
        "X_reduced = np.dot(X_meaned, eigenvector_subset)\n",
        "print(\"Reduced Data:\\n\", X_reduced[:5])\n"
      ],
      "metadata": {
        "colab": {
          "base_uri": "https://localhost:8080/"
        },
        "id": "4XeFkWB8YcHW",
        "outputId": "e3c99d0a-c3c7-447f-cfe9-1ff7d91ceade"
      },
      "execution_count": 7,
      "outputs": [
        {
          "output_type": "stream",
          "name": "stdout",
          "text": [
            "Reduced Data:\n",
            " [[-0.82797019]\n",
            " [ 1.77758033]\n",
            " [-0.99219749]\n",
            " [-0.27421042]\n",
            " [-1.67580142]]\n"
          ]
        }
      ]
    },
    {
      "cell_type": "code",
      "source": [
        "# Plot original data and principal component\n",
        "plt.scatter(X[:,0], X[:,1], label='Original Data')\n",
        "plt.quiver(np.mean(X[:,0]), np.mean(X[:,1]),\n",
        "           eigenvector_subset[0], eigenvector_subset[1],\n",
        "           scale=3, color='r', label='PC1')\n",
        "plt.xlabel('X1')\n",
        "plt.ylabel('X2')\n",
        "plt.title('PCA: Principal Component')\n",
        "plt.legend()\n",
        "plt.grid(True)\n",
        "plt.show()\n"
      ],
      "metadata": {
        "colab": {
          "base_uri": "https://localhost:8080/",
          "height": 472
        },
        "id": "aASoMfncYd0C",
        "outputId": "db77b1c5-c6de-4c5c-d01b-7a1b6b98e0c4"
      },
      "execution_count": 8,
      "outputs": [
        {
          "output_type": "display_data",
          "data": {
            "text/plain": [
              "<Figure size 640x480 with 1 Axes>"
            ],
            "image/png": "[encoded data removed]"
          },
          "metadata": {}
        }
      ]
    },
    {
      "cell_type": "code",
      "source": [],
      "metadata": {
        "id": "or119b-9ZdSa"
      },
      "execution_count": null,
      "outputs": []
    }
  ]
}