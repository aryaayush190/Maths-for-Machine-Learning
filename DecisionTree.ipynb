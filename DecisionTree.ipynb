##Decision Tree Using sklearn
import numpy as np
import matplotlib.pyplot as plt
from sklearn.datasets import load_iris

# I have taken iris dataset
iris = load_iris()
X = iris.data[:, 2:]   # we’ll only take petal length & width (2 features)
y = iris.target        # flower type

print("Features shape:", X.shape)
print("Target classes:", np.unique(y))

from sklearn.tree import DecisionTreeClassifier

# Create and train model
tree_clf = DecisionTreeClassifier(max_depth=2, random_state=42)
tree_clf.fit(X, y)

print("Model trained with max_depth=2")

# Function to plot decision boundary
def plot_decision_boundary(model, X, y):
    x_min, x_max = X[:, 0].min() - 1, X[:, 0].max() + 1
    y_min, y_max = X[:, 1].min() - 1, X[:, 1].max() + 1
    xx, yy = np.meshgrid(np.arange(x_min, x_max, 0.01),
                         np.arange(y_min, y_max, 0.01))
    Z = model.predict(np.c_[xx.ravel(), yy.ravel()])
    Z = Z.reshape(xx.shape)
    plt.contourf(xx, yy, Z, alpha=0.3)
    plt.scatter(X[:, 0], X[:, 1], c=y, edgecolor="k")
    plt.xlabel("Petal length")
    plt.ylabel("Petal width")
    plt.title("Decision Tree Decision Boundary")
    plt.show()

plot_decision_boundary(tree_clf, X, y)

from sklearn import tree

plt.figure(figsize=(10,6))
tree.plot_tree(tree_clf, filled=True, feature_names=iris.feature_names[2:], class_names=iris.target_names)
plt.show()

